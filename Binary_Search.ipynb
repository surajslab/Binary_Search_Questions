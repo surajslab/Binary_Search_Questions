{
  "nbformat": 4,
  "nbformat_minor": 0,
  "metadata": {
    "colab": {
      "name": "Binary Search.ipynb",
      "provenance": [],
      "authorship_tag": "ABX9TyMCHyfCiSfoK8aFx0/uea+t",
      "include_colab_link": true
    },
    "kernelspec": {
      "name": "python3",
      "display_name": "Python 3"
    },
    "language_info": {
      "name": "python"
    }
  },
  "cells": [
    {
      "cell_type": "markdown",
      "metadata": {
        "id": "view-in-github",
        "colab_type": "text"
      },
      "source": [
        "<a href=\"https://colab.research.google.com/github/surajslab/Binary_Search_Questions/blob/main/Binary_Search.ipynb\" target=\"_parent\"><img src=\"https://colab.research.google.com/assets/colab-badge.svg\" alt=\"Open In Colab\"/></a>"
      ]
    },
    {
      "cell_type": "markdown",
      "source": [
        "# **Binary Search Questions**"
      ],
      "metadata": {
        "id": "nJH78d--hSWZ"
      }
    },
    {
      "cell_type": "markdown",
      "source": [
        "## **Binary Search**"
      ],
      "metadata": {
        "id": "dC8FeYgEheZ6"
      }
    },
    {
      "cell_type": "code",
      "source": [
        "def search(arr,target):\n",
        "  start=0\n",
        "  end=len(arr)-1\n",
        "\n",
        "  while(start<=end):\n",
        "    mid= start+(end-start)//2\n",
        "\n",
        "    if(arr[mid]==target):\n",
        "      return mid\n",
        "    elif(target>arr[mid]):\n",
        "      start=mid+1\n",
        "    else:\n",
        "      end=mid-1\n",
        "  return -1\n",
        "\n",
        "\n",
        "arr=[1,2,3,4,5,6,66,77,78,89,123]\n",
        "\n",
        "\n",
        "print(search(arr,123))\n"
      ],
      "metadata": {
        "colab": {
          "base_uri": "https://localhost:8080/"
        },
        "id": "GjkbbFpChhHh",
        "outputId": "3638ab24-f26b-4827-9c27-2eb638cbf69e"
      },
      "execution_count": null,
      "outputs": [
        {
          "output_type": "stream",
          "name": "stdout",
          "text": [
            "10\n"
          ]
        }
      ]
    },
    {
      "cell_type": "markdown",
      "source": [
        "## **Ceiling of a Number**"
      ],
      "metadata": {
        "id": "i914pfF5hOKa"
      }
    },
    {
      "cell_type": "code",
      "source": [
        "def ceiling(arr,n):\n",
        "  start=0\n",
        "  end=len(arr)-1\n",
        "\n",
        "  while(start<=end):\n",
        "    mid= start+(end-start)//2\n",
        "\n",
        "    if(arr[mid]==n):\n",
        "      return mid\n",
        "    elif(n>arr[mid]):\n",
        "      start=mid+1\n",
        "    else:\n",
        "      end=mid-1\n",
        "  return start\n",
        "\n",
        "arr1=[1,2,4,5,6,8,9]\n",
        "n=3\n",
        "print(ceiling(arr1,n))"
      ],
      "metadata": {
        "colab": {
          "base_uri": "https://localhost:8080/"
        },
        "id": "cNsnf6uSkVqj",
        "outputId": "93b8cdcd-65ae-4e2c-ee9f-f1a559173a6d"
      },
      "execution_count": null,
      "outputs": [
        {
          "output_type": "stream",
          "name": "stdout",
          "text": [
            "2\n"
          ]
        }
      ]
    },
    {
      "cell_type": "markdown",
      "source": [
        "## **Floor of a number** "
      ],
      "metadata": {
        "id": "b5UTC9JZmW0q"
      }
    },
    {
      "cell_type": "code",
      "source": [
        "\n",
        "\n",
        "def floor(arr,n):\n",
        "  start=0\n",
        "  end=len(arr)-1\n",
        "\n",
        "  while(start<=end):\n",
        "    mid= start+(end-start)//2\n",
        "\n",
        "    if(arr[mid]==n):\n",
        "      return mid\n",
        "    elif(n>arr[mid]):\n",
        "      start=mid+1\n",
        "    else:\n",
        "      end=mid-1\n",
        "  return end\n",
        "\n",
        "arr=[1,2,4,6,8,9]\n",
        "n=3\n",
        "\n",
        "floor(arr,n)\n"
      ],
      "metadata": {
        "colab": {
          "base_uri": "https://localhost:8080/"
        },
        "id": "rB8iFpoblOob",
        "outputId": "793eaf00-43db-430c-db1e-292b88fa466d"
      },
      "execution_count": null,
      "outputs": [
        {
          "output_type": "execute_result",
          "data": {
            "text/plain": [
              "1"
            ]
          },
          "metadata": {},
          "execution_count": 26
        }
      ]
    },
    {
      "cell_type": "markdown",
      "source": [
        "## **Find the next greater letter**"
      ],
      "metadata": {
        "id": "zieIgileoJyg"
      }
    },
    {
      "cell_type": "code",
      "source": [
        "def gletter(arr,n):\n",
        "  start=0\n",
        "  end=len(arr)-1\n",
        "\n",
        "  while(start<=end):\n",
        "    mid= start+(end-start)//2\n",
        "\n",
        "    if(arr[mid]==n):\n",
        "      return mid\n",
        "    elif(n>arr[mid]):\n",
        "      start=mid+1\n",
        "    else:\n",
        "      end=mid-1\n",
        "  return arr1[start%len(arr)]\n",
        "\n",
        "arr1=['a','b','c','e']\n",
        "n='f'\n",
        "print(gletter(arr1,n))"
      ],
      "metadata": {
        "colab": {
          "base_uri": "https://localhost:8080/"
        },
        "id": "VmylS7G5oPwp",
        "outputId": "8a928156-e44f-4630-bfbf-40f92475f483"
      },
      "execution_count": null,
      "outputs": [
        {
          "output_type": "stream",
          "name": "stdout",
          "text": [
            "a\n"
          ]
        }
      ]
    },
    {
      "cell_type": "markdown",
      "source": [
        "## **First and Last Index**"
      ],
      "metadata": {
        "id": "s3JmEjX4tk-N"
      }
    },
    {
      "cell_type": "code",
      "source": [
        "def range(arr,target):\n",
        "\n",
        "  rangen=[-1,-1]\n",
        "  rangen[0]=search(arr,target,True)\n",
        "  if(rangen[0] != -1):\n",
        "    rangen[1]=search(arr,target,False)\n",
        "  \n",
        "  return rangen\n",
        "\n",
        "def search(arr,target,checkindex):\n",
        "\n",
        "  start=0\n",
        "  ans=-1\n",
        "  end=len(arr)-1\n",
        "\n",
        "  while(start<=end):\n",
        "    mid=start+(end-start)//2\n",
        "    if(arr[mid]==target):\n",
        "      ans=mid\n",
        "      if(checkindex):\n",
        "        end=mid-1\n",
        "      else:\n",
        "        start=mid+1\n",
        "    elif(target>arr[mid]):\n",
        "      start=mid+1\n",
        "    else:\n",
        "      end=mid-1\n",
        "    \n",
        "  return ans\n",
        "\n",
        "print(range([1,2,3,4,4,4,4,4,6],4))"
      ],
      "metadata": {
        "colab": {
          "base_uri": "https://localhost:8080/"
        },
        "id": "7Bkj_nWwtgci",
        "outputId": "8e67aea8-ce25-468e-883a-1ad08dfc66f0"
      },
      "execution_count": null,
      "outputs": [
        {
          "output_type": "stream",
          "name": "stdout",
          "text": [
            "[3, 7]\n"
          ]
        }
      ]
    },
    {
      "cell_type": "markdown",
      "source": [
        "## **Find an Element in Infinitely Sorted Array**"
      ],
      "metadata": {
        "id": "Ddl9KCTBvwW8"
      }
    },
    {
      "cell_type": "code",
      "source": [
        "def findrange(arr,target):\n",
        "  start=0\n",
        "  end=1\n",
        "\n",
        "  while(target>arr[end]):\n",
        "    temp=end+1\n",
        "    end=end+(end-start+1)*2\n",
        "    start=temp\n",
        "  \n",
        "\n",
        "  ans=search(arr,target,start,end)\n",
        "  return ans\n",
        "\n",
        "def search(arr,target,start,end):\n",
        "\n",
        "\n",
        "\n",
        "  while(start<=end):\n",
        "    mid= start+(end-start)//2\n",
        "\n",
        "    if(arr[mid]==target):\n",
        "      return mid\n",
        "    elif(target>arr[mid]):\n",
        "      start=mid+1\n",
        "    else:\n",
        "      end=mid-1\n",
        "  return -1\n",
        "\n",
        "arr=[1,3,5,6,8,12,13,14,15,16,17,23,24,26,28,29,89]\n",
        "target=15\n",
        "print(findrange(arr,target))\n",
        "\n",
        "\n"
      ],
      "metadata": {
        "colab": {
          "base_uri": "https://localhost:8080/"
        },
        "id": "sD6FgfIMvYe1",
        "outputId": "fd9bdd4e-4bb3-4dda-c56c-4a05896ac475"
      },
      "execution_count": null,
      "outputs": [
        {
          "output_type": "stream",
          "name": "stdout",
          "text": [
            "8\n"
          ]
        }
      ]
    },
    {
      "cell_type": "markdown",
      "source": [
        "## **Peak Element in Mountain Array**"
      ],
      "metadata": {
        "id": "KlonKIydx2Tk"
      }
    },
    {
      "cell_type": "code",
      "source": [
        "def peakmountain(arr):\n",
        "\n",
        "  start=0\n",
        "  end=len(arr)\n",
        "\n",
        "  while(start<end):\n",
        "\n",
        "    mid=start+ (end-start)//2\n",
        "\n",
        "    if(arr[mid]>arr[mid+1]):\n",
        "      end=mid\n",
        "    \n",
        "    elif(arr[mid]<=arr[mid+1]):\n",
        "      start=mid+1\n",
        "\n",
        "  return end\n",
        "\n",
        "arr=[12,13,14,15,16,4,3,2,1]\n",
        "print(peakmountain(arr))"
      ],
      "metadata": {
        "id": "k7_4yikWx3Ue",
        "colab": {
          "base_uri": "https://localhost:8080/"
        },
        "outputId": "8ed495a6-f589-4cd8-e222-292769520fa4"
      },
      "execution_count": 9,
      "outputs": [
        {
          "output_type": "stream",
          "name": "stdout",
          "text": [
            "7\n"
          ]
        }
      ]
    },
    {
      "cell_type": "markdown",
      "source": [
        "## **Search in Mountain Array**"
      ],
      "metadata": {
        "id": "PmD4SPYozq4P"
      }
    },
    {
      "cell_type": "code",
      "source": [
        "\n",
        "\n",
        "def main(arr,target):\n",
        "\n",
        "  peakele=peak(arr)\n",
        "\n",
        "  ans=orderagnostic(arr,target,0,peakele)\n",
        "  if(ans!=-1):\n",
        "    return ans\n",
        "  else:\n",
        "    ans=orderagnostic(arr,target,peakele+1,len(arr)-1)\n",
        "    return ans\n",
        "\n",
        "\n",
        "\n",
        "\n",
        "\n",
        "def peak(arr):\n",
        "\n",
        "  start=0\n",
        "  end=len(arr)-1\n",
        "\n",
        "  while(start<end):\n",
        "    mid=start + (end-start)//2\n",
        "\n",
        "    if(arr[mid]>arr[mid+1]):\n",
        "      end=mid\n",
        "    else:\n",
        "      start=mid+1\n",
        "  return start\n",
        "\n",
        "\n",
        "\n",
        "\n",
        "def orderagnostic(arr,target,start,end):\n",
        "\n",
        "  check=False\n",
        "\n",
        "\n",
        "  if(arr[start]<arr[end]):\n",
        "    check=True\n",
        "\n",
        "\n",
        "\n",
        "  while(start<=end):\n",
        "    mid= start+(end-start)//2\n",
        "\n",
        "    if check:\n",
        "\n",
        "      if(arr[mid]==target):\n",
        "        return mid\n",
        "      elif(target>arr[mid]):\n",
        "        start=mid+1\n",
        "      else:\n",
        "        end=mid-1\n",
        "\n",
        "    if not check:\n",
        "\n",
        "      if(arr[mid]==target):\n",
        "        return mid\n",
        "      elif(target>arr[mid]):\n",
        "        end=mid-1\n",
        "      else:\n",
        "        start=mid+1\n",
        "\n",
        "  return -1\n",
        "\n",
        "\n",
        "\n",
        "\n",
        "\n",
        "arr=[12,13,14,15,5,4,3,2,1]\n",
        "target=2\n",
        "print(main(arr,target))\n",
        "\n",
        "\n",
        "\n"
      ],
      "metadata": {
        "colab": {
          "base_uri": "https://localhost:8080/"
        },
        "id": "b7lZLEkUzLps",
        "outputId": "2bd2f57e-081c-4d7d-b138-cfc4cebfaa34"
      },
      "execution_count": 30,
      "outputs": [
        {
          "output_type": "stream",
          "name": "stdout",
          "text": [
            "7\n"
          ]
        }
      ]
    },
    {
      "cell_type": "markdown",
      "source": [
        "## **Search in Rotated Sorted Array**"
      ],
      "metadata": {
        "id": "CMeYkFt35um1"
      }
    },
    {
      "cell_type": "code",
      "source": [
        "\n",
        "def main(arr,target):\n",
        "\n",
        "  pivot=findpivot(arr)\n",
        "  if(target>=arr[0]):\n",
        "    return search(arr,target,0,pivot)\n",
        "  else:\n",
        "    return search(arr,target,pivot+1,len(arr)-1)\n",
        "\n",
        "\n",
        "\n",
        "def findpivot(arr):\n",
        "\n",
        "  start=0\n",
        "  end=len(arr)-1\n",
        "\n",
        "  while(start<=end):\n",
        "\n",
        "    mid=start+(end-start)//2\n",
        "\n",
        "    if(mid+1<len(arr)-1 and arr[mid]>arr[mid+1]):\n",
        "      return mid\n",
        "    \n",
        "    if(mid-1>0 and arr[mid]<arr[mid-1]):\n",
        "      return mid-1\n",
        "\n",
        "    if(arr[mid]>=start):\n",
        "      start=mid+1\n",
        "    else:\n",
        "      end=mid-1\n",
        "  return -1\n",
        "\n",
        "\n",
        "\n",
        "\n",
        "\n",
        "def search(arr,target,start,end):\n",
        "\n",
        "  while(start<=end):\n",
        "    mid=start+(end-start)//2\n",
        "\n",
        "    if(arr[mid]==target):\n",
        "      return mid\n",
        "    elif(target>arr[mid]):\n",
        "      start=mid+1\n",
        "    else:\n",
        "      end=mid-1\n",
        "  return -1\n",
        "\n",
        "\n",
        "\n",
        "\n",
        "arr=[3,4,5,6,7,1,2]\n",
        "\n",
        "target=2\n",
        "print(main(arr,target))\n",
        "\n",
        "\n",
        "\n"
      ],
      "metadata": {
        "colab": {
          "base_uri": "https://localhost:8080/"
        },
        "id": "s3NPk7960wKo",
        "outputId": "3df60701-9d50-4b55-e433-57188e64e98f"
      },
      "execution_count": 42,
      "outputs": [
        {
          "output_type": "stream",
          "name": "stdout",
          "text": [
            "6\n"
          ]
        }
      ]
    },
    {
      "cell_type": "markdown",
      "source": [
        "# **Rotation Count**"
      ],
      "metadata": {
        "id": "UK6m5AxvM4tM"
      }
    },
    {
      "cell_type": "code",
      "source": [
        "def main(arr,target):\n",
        "\n",
        "  pivot=findpivot(arr)\n",
        "  return pivot+1\n",
        "\n",
        "\n",
        "\n",
        "\n",
        "def findpivot(arr):\n",
        "\n",
        "  start=0\n",
        "  end=len(arr)-1\n",
        "\n",
        "  while(start<=end):\n",
        "\n",
        "    mid=start+(end-start)//2\n",
        "\n",
        "    if(mid+1<len(arr)-1 and arr[mid]>arr[mid+1]):\n",
        "      return mid\n",
        "    \n",
        "    if(mid-1>0 and arr[mid]<arr[mid-1]):\n",
        "      return mid-1\n",
        "\n",
        "    if(arr[mid]>=start):\n",
        "      start=mid+1\n",
        "    else:\n",
        "      end=mid-1\n",
        "  return -1\n",
        "\n",
        "  \n",
        "arr=[3,4,5,6,7,1,2]\n",
        "print(findpivot(arr))"
      ],
      "metadata": {
        "colab": {
          "base_uri": "https://localhost:8080/"
        },
        "id": "o5T1hpRtIBG3",
        "outputId": "a6220d72-3eb1-45e6-a6af-e946aafc960a"
      },
      "execution_count": 43,
      "outputs": [
        {
          "output_type": "stream",
          "name": "stdout",
          "text": [
            "4\n"
          ]
        }
      ]
    },
    {
      "cell_type": "code",
      "source": [
        ""
      ],
      "metadata": {
        "id": "r82gKhdZNMKl"
      },
      "execution_count": null,
      "outputs": []
    }
  ]
}